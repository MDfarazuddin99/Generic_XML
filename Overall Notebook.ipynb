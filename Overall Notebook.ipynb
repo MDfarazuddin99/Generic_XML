{
 "cells": [
  {
   "cell_type": "code",
   "execution_count": 19,
   "metadata": {},
   "outputs": [],
   "source": [
    "import warnings\n",
    "warnings.filterwarnings('ignore')\n",
    "import numpy as np\n",
    "import pandas as pd\n",
    "import matplotlib.pyplot as plt\n",
    "from xgboost import XGBClassifier\n",
    "from sklearn.preprocessing import StandardScaler\n",
    "from sklearn.preprocessing import LabelEncoder, OneHotEncoder\n",
    "from sklearn.model_selection import train_test_split\n",
    "from sklearn.metrics import make_scorer, accuracy_score, precision_score, recall_score, f1_score,confusion_matrix, classification_report\n",
    "import seaborn as sns\n",
    "from sklearn.tree import DecisionTreeClassifier\n",
    "from sklearn.ensemble import IsolationForest\n",
    "from sklearn.ensemble import RandomForestClassifier\n",
    "from sklearn.svm import SVC, OneClassSVM\n",
    "from sklearn.neighbors import LocalOutlierFactor\n",
    "plt.rcParams[\"figure.figsize\"] = (20,10)\n",
    "# %matplotlib inline"
   ]
  },
  {
   "cell_type": "code",
   "execution_count": 20,
   "metadata": {},
   "outputs": [
    {
     "data": {
      "text/html": [
       "<div>\n",
       "<style scoped>\n",
       "    .dataframe tbody tr th:only-of-type {\n",
       "        vertical-align: middle;\n",
       "    }\n",
       "\n",
       "    .dataframe tbody tr th {\n",
       "        vertical-align: top;\n",
       "    }\n",
       "\n",
       "    .dataframe thead th {\n",
       "        text-align: right;\n",
       "    }\n",
       "</style>\n",
       "<table border=\"1\" class=\"dataframe\">\n",
       "  <thead>\n",
       "    <tr style=\"text-align: right;\">\n",
       "      <th></th>\n",
       "      <th>CustomerType</th>\n",
       "      <th>NoOfContract</th>\n",
       "      <th>CurrentBillWithoutTax</th>\n",
       "      <th>TaxCode</th>\n",
       "      <th>TotalTax</th>\n",
       "      <th>CurrentBillWithTax</th>\n",
       "      <th>Adjustment</th>\n",
       "      <th>LastMonthPendingAmount</th>\n",
       "      <th>TotalAmountToPay</th>\n",
       "      <th>Anomaly</th>\n",
       "      <th>TypeOfAnomaly</th>\n",
       "    </tr>\n",
       "  </thead>\n",
       "  <tbody>\n",
       "    <tr>\n",
       "      <th>0</th>\n",
       "      <td>r</td>\n",
       "      <td>12</td>\n",
       "      <td>692.6</td>\n",
       "      <td>0</td>\n",
       "      <td>83.112</td>\n",
       "      <td>775.712</td>\n",
       "      <td>0.0</td>\n",
       "      <td>159.0</td>\n",
       "      <td>934.712</td>\n",
       "      <td>0</td>\n",
       "      <td>NaN</td>\n",
       "    </tr>\n",
       "    <tr>\n",
       "      <th>1</th>\n",
       "      <td>v</td>\n",
       "      <td>10</td>\n",
       "      <td>1445.5</td>\n",
       "      <td>0</td>\n",
       "      <td>173.460</td>\n",
       "      <td>1618.960</td>\n",
       "      <td>0.0</td>\n",
       "      <td>574.0</td>\n",
       "      <td>2192.960</td>\n",
       "      <td>0</td>\n",
       "      <td>NaN</td>\n",
       "    </tr>\n",
       "    <tr>\n",
       "      <th>2</th>\n",
       "      <td>v</td>\n",
       "      <td>36</td>\n",
       "      <td>5224.2</td>\n",
       "      <td>1</td>\n",
       "      <td>940.356</td>\n",
       "      <td>6164.556</td>\n",
       "      <td>5916.0</td>\n",
       "      <td>5711.0</td>\n",
       "      <td>5959.556</td>\n",
       "      <td>0</td>\n",
       "      <td>NaN</td>\n",
       "    </tr>\n",
       "    <tr>\n",
       "      <th>3</th>\n",
       "      <td>r</td>\n",
       "      <td>12</td>\n",
       "      <td>698.6</td>\n",
       "      <td>0</td>\n",
       "      <td>83.832</td>\n",
       "      <td>782.432</td>\n",
       "      <td>0.0</td>\n",
       "      <td>0.0</td>\n",
       "      <td>782.432</td>\n",
       "      <td>0</td>\n",
       "      <td>NaN</td>\n",
       "    </tr>\n",
       "    <tr>\n",
       "      <th>4</th>\n",
       "      <td>r</td>\n",
       "      <td>12</td>\n",
       "      <td>716.6</td>\n",
       "      <td>0</td>\n",
       "      <td>85.992</td>\n",
       "      <td>802.592</td>\n",
       "      <td>0.0</td>\n",
       "      <td>0.0</td>\n",
       "      <td>802.592</td>\n",
       "      <td>0</td>\n",
       "      <td>NaN</td>\n",
       "    </tr>\n",
       "  </tbody>\n",
       "</table>\n",
       "</div>"
      ],
      "text/plain": [
       "  CustomerType  NoOfContract  CurrentBillWithoutTax  TaxCode  TotalTax  \\\n",
       "0            r            12                  692.6        0    83.112   \n",
       "1            v            10                 1445.5        0   173.460   \n",
       "2            v            36                 5224.2        1   940.356   \n",
       "3            r            12                  698.6        0    83.832   \n",
       "4            r            12                  716.6        0    85.992   \n",
       "\n",
       "   CurrentBillWithTax  Adjustment  LastMonthPendingAmount  TotalAmountToPay  \\\n",
       "0             775.712         0.0                   159.0           934.712   \n",
       "1            1618.960         0.0                   574.0          2192.960   \n",
       "2            6164.556      5916.0                  5711.0          5959.556   \n",
       "3             782.432         0.0                     0.0           782.432   \n",
       "4             802.592         0.0                     0.0           802.592   \n",
       "\n",
       "   Anomaly TypeOfAnomaly  \n",
       "0        0           NaN  \n",
       "1        0           NaN  \n",
       "2        0           NaN  \n",
       "3        0           NaN  \n",
       "4        0           NaN  "
      ]
     },
     "execution_count": 20,
     "metadata": {},
     "output_type": "execute_result"
    }
   ],
   "source": [
    "data = pd.read_csv(\"billrun_data_with_1lac_data.csv\")\n",
    "data.drop('Unnamed: 0',axis = 1,inplace = True)\n",
    "data.head()"
   ]
  },
  {
   "cell_type": "code",
   "execution_count": 21,
   "metadata": {},
   "outputs": [],
   "source": [
    "data.fillna(value = 0, inplace = True)\n",
    "data['CustomerType'] = pd.Categorical(data.CustomerType)\n",
    "data['TaxCode'] = pd.Categorical(data.TaxCode)\n",
    "data['TypeOfAnomaly'] = pd.Categorical(data.TypeOfAnomaly)\n",
    "le = LabelEncoder()\n",
    "data['CustomerType'] = le.fit_transform(data['CustomerType'])\n",
    "data['TaxCode'] = le.fit_transform(data.TaxCode)\n",
    "data = pd.get_dummies(data)\n",
    "data.drop(['TypeOfAnomaly_0','TypeOfAnomaly_CustomerType Anomaly','TypeOfAnomaly_Product Anomaly','TypeOfAnomaly_TaxCode Anomaly','TotalTax', 'CurrentBillWithTax', 'Adjustment','LastMonthPendingAmount','TotalAmountToPay'],axis = 1, inplace = True)\n",
    "data.rename({'CustomerType' : 'type', 'NoOfContract' : '#contract', 'CurrentBillWithoutTax' : 'CurrentBillWithoutTax','TaxCode' : 'TaxCode', 'TypeOfAnomaly_Adjustment Anomaly' : 'AdjustmentIssue', 'TypeOfAnomaly_LastMonthPendingAmount Anomaly' : 'LastMonthIssue','Anomaly' : 'label'},inplace=True, axis = 1)\n",
    "# numerical_colms = ['#contract','CurrentBillWithoutTax']"
   ]
  },
  {
   "cell_type": "code",
   "execution_count": 22,
   "metadata": {},
   "outputs": [
    {
     "data": {
      "text/html": [
       "<div>\n",
       "<style scoped>\n",
       "    .dataframe tbody tr th:only-of-type {\n",
       "        vertical-align: middle;\n",
       "    }\n",
       "\n",
       "    .dataframe tbody tr th {\n",
       "        vertical-align: top;\n",
       "    }\n",
       "\n",
       "    .dataframe thead th {\n",
       "        text-align: right;\n",
       "    }\n",
       "</style>\n",
       "<table border=\"1\" class=\"dataframe\">\n",
       "  <thead>\n",
       "    <tr style=\"text-align: right;\">\n",
       "      <th></th>\n",
       "      <th>type</th>\n",
       "      <th>#contract</th>\n",
       "      <th>CurrentBillWithoutTax</th>\n",
       "      <th>TaxCode</th>\n",
       "      <th>label</th>\n",
       "      <th>AdjustmentIssue</th>\n",
       "      <th>LastMonthIssue</th>\n",
       "    </tr>\n",
       "  </thead>\n",
       "  <tbody>\n",
       "    <tr>\n",
       "      <th>0</th>\n",
       "      <td>0</td>\n",
       "      <td>12</td>\n",
       "      <td>692.6</td>\n",
       "      <td>0</td>\n",
       "      <td>0</td>\n",
       "      <td>0</td>\n",
       "      <td>0</td>\n",
       "    </tr>\n",
       "    <tr>\n",
       "      <th>1</th>\n",
       "      <td>1</td>\n",
       "      <td>10</td>\n",
       "      <td>1445.5</td>\n",
       "      <td>0</td>\n",
       "      <td>0</td>\n",
       "      <td>0</td>\n",
       "      <td>0</td>\n",
       "    </tr>\n",
       "    <tr>\n",
       "      <th>2</th>\n",
       "      <td>1</td>\n",
       "      <td>36</td>\n",
       "      <td>5224.2</td>\n",
       "      <td>1</td>\n",
       "      <td>0</td>\n",
       "      <td>0</td>\n",
       "      <td>0</td>\n",
       "    </tr>\n",
       "    <tr>\n",
       "      <th>3</th>\n",
       "      <td>0</td>\n",
       "      <td>12</td>\n",
       "      <td>698.6</td>\n",
       "      <td>0</td>\n",
       "      <td>0</td>\n",
       "      <td>0</td>\n",
       "      <td>0</td>\n",
       "    </tr>\n",
       "    <tr>\n",
       "      <th>4</th>\n",
       "      <td>0</td>\n",
       "      <td>12</td>\n",
       "      <td>716.6</td>\n",
       "      <td>0</td>\n",
       "      <td>0</td>\n",
       "      <td>0</td>\n",
       "      <td>0</td>\n",
       "    </tr>\n",
       "  </tbody>\n",
       "</table>\n",
       "</div>"
      ],
      "text/plain": [
       "   type  #contract  CurrentBillWithoutTax  TaxCode  label  AdjustmentIssue  \\\n",
       "0     0         12                  692.6        0      0                0   \n",
       "1     1         10                 1445.5        0      0                0   \n",
       "2     1         36                 5224.2        1      0                0   \n",
       "3     0         12                  698.6        0      0                0   \n",
       "4     0         12                  716.6        0      0                0   \n",
       "\n",
       "   LastMonthIssue  \n",
       "0               0  \n",
       "1               0  \n",
       "2               0  \n",
       "3               0  \n",
       "4               0  "
      ]
     },
     "execution_count": 22,
     "metadata": {},
     "output_type": "execute_result"
    }
   ],
   "source": [
    "data.head()"
   ]
  },
  {
   "cell_type": "code",
   "execution_count": 23,
   "metadata": {},
   "outputs": [
    {
     "data": {
      "text/plain": [
       "<matplotlib.axes._subplots.AxesSubplot at 0x7ffa13d9eef0>"
      ]
     },
     "execution_count": 23,
     "metadata": {},
     "output_type": "execute_result"
    },
    {
     "data": {
      "image/png": "[encoded data removed]",
      "text/plain": [
       "<Figure size 1440x720 with 1 Axes>"
      ]
     },
     "metadata": {},
     "output_type": "display_data"
    }
   ],
   "source": [
    "data['label'].value_counts().plot(kind = 'bar')  ## Imabalanced Data"
   ]
  },
  {
   "cell_type": "code",
   "execution_count": 24,
   "metadata": {},
   "outputs": [
    {
     "data": {
      "text/html": [
       "<div>\n",
       "<style scoped>\n",
       "    .dataframe tbody tr th:only-of-type {\n",
       "        vertical-align: middle;\n",
       "    }\n",
       "\n",
       "    .dataframe tbody tr th {\n",
       "        vertical-align: top;\n",
       "    }\n",
       "\n",
       "    .dataframe thead th {\n",
       "        text-align: right;\n",
       "    }\n",
       "</style>\n",
       "<table border=\"1\" class=\"dataframe\">\n",
       "  <thead>\n",
       "    <tr style=\"text-align: right;\">\n",
       "      <th></th>\n",
       "      <th>type</th>\n",
       "      <th>#contract</th>\n",
       "      <th>CurrentBillWithoutTax</th>\n",
       "      <th>TaxCode</th>\n",
       "      <th>label</th>\n",
       "      <th>AdjustmentIssue</th>\n",
       "      <th>LastMonthIssue</th>\n",
       "    </tr>\n",
       "  </thead>\n",
       "  <tbody>\n",
       "    <tr>\n",
       "      <th>0</th>\n",
       "      <td>0</td>\n",
       "      <td>5</td>\n",
       "      <td>269.75</td>\n",
       "      <td>0</td>\n",
       "      <td>0</td>\n",
       "      <td>0</td>\n",
       "      <td>0</td>\n",
       "    </tr>\n",
       "    <tr>\n",
       "      <th>1</th>\n",
       "      <td>1</td>\n",
       "      <td>12</td>\n",
       "      <td>1711.40</td>\n",
       "      <td>0</td>\n",
       "      <td>0</td>\n",
       "      <td>0</td>\n",
       "      <td>0</td>\n",
       "    </tr>\n",
       "    <tr>\n",
       "      <th>2</th>\n",
       "      <td>0</td>\n",
       "      <td>12</td>\n",
       "      <td>721.60</td>\n",
       "      <td>0</td>\n",
       "      <td>0</td>\n",
       "      <td>0</td>\n",
       "      <td>0</td>\n",
       "    </tr>\n",
       "    <tr>\n",
       "      <th>3</th>\n",
       "      <td>0</td>\n",
       "      <td>8</td>\n",
       "      <td>456.40</td>\n",
       "      <td>0</td>\n",
       "      <td>0</td>\n",
       "      <td>0</td>\n",
       "      <td>0</td>\n",
       "    </tr>\n",
       "    <tr>\n",
       "      <th>4</th>\n",
       "      <td>1</td>\n",
       "      <td>3</td>\n",
       "      <td>411.35</td>\n",
       "      <td>0</td>\n",
       "      <td>0</td>\n",
       "      <td>0</td>\n",
       "      <td>0</td>\n",
       "    </tr>\n",
       "  </tbody>\n",
       "</table>\n",
       "</div>"
      ],
      "text/plain": [
       "   type  #contract  CurrentBillWithoutTax  TaxCode  label  AdjustmentIssue  \\\n",
       "0     0          5                 269.75        0      0                0   \n",
       "1     1         12                1711.40        0      0                0   \n",
       "2     0         12                 721.60        0      0                0   \n",
       "3     0          8                 456.40        0      0                0   \n",
       "4     1          3                 411.35        0      0                0   \n",
       "\n",
       "   LastMonthIssue  \n",
       "0               0  \n",
       "1               0  \n",
       "2               0  \n",
       "3               0  \n",
       "4               0  "
      ]
     },
     "execution_count": 24,
     "metadata": {},
     "output_type": "execute_result"
    }
   ],
   "source": [
    "test = pd.read_csv('billrun_data_with_multi_features.csv')\n",
    "test.fillna(value = 0, inplace = True)\n",
    "test['CustomerType'] = pd.Categorical(test.CustomerType)\n",
    "test['TaxCode'] = pd.Categorical(test.TaxCode)\n",
    "test['TypeOfAnomaly'] = pd.Categorical(test.TypeOfAnomaly)\n",
    "le = LabelEncoder()\n",
    "test['CustomerType'] = le.fit_transform(test['CustomerType'])\n",
    "test['TaxCode'] = le.fit_transform(test.TaxCode)\n",
    "test = pd.get_dummies(test)\n",
    "test.drop(['TypeOfAnomaly_0','TypeOfAnomaly_CustomerType Anomaly','TypeOfAnomaly_Product Anomaly','TypeOfAnomaly_TaxCode Anomaly','TotalTax', 'CurrentBillWithTax', 'Adjustment','LastMonthPendingAmount','TotalAmountToPay'],axis = 1, inplace = True)\n",
    "test.rename({'CustomerType' : 'type', 'NoOfContract' : '#contract', 'CurrentBillWithoutTax' : 'CurrentBillWithoutTax','TaxCode' : 'TaxCode', 'TypeOfAnomaly_Adjustment Anomaly' : 'AdjustmentIssue', 'TypeOfAnomaly_LastMonthPendingAmount Anomaly' : 'LastMonthIssue','Anomaly' : 'label'},inplace=True, axis = 1)\n",
    "# test[numerical_colms] = StandardScaler().fit_transform(test[numerical_colms])\n",
    "test.head()"
   ]
  },
  {
   "cell_type": "markdown",
   "metadata": {},
   "source": [
    "# OneClassSVM"
   ]
  },
  {
   "cell_type": "code",
   "execution_count": 25,
   "metadata": {},
   "outputs": [
    {
     "name": "stdout",
     "output_type": "stream",
     "text": [
      "[LibSVM]"
     ]
    },
    {
     "data": {
      "text/plain": [
       "OneClassSVM(cache_size=200, coef0=0.0, degree=3, gamma='scale', kernel='rbf',\n",
       "            max_iter=-1, nu=0.024752967553542532, shrinking=True, tol=0.001,\n",
       "            verbose=True)"
      ]
     },
     "execution_count": 25,
     "metadata": {},
     "output_type": "execute_result"
    }
   ],
   "source": [
    "class0 = data[data['label']==0]\n",
    "class1 = data[data['label']==1]\n",
    "outlier_prop = class1.shape[0] / class0.shape[0]\n",
    "model = OneClassSVM(verbose = True, nu=outlier_prop)\n",
    "model.fit(class0.drop('label', axis = 1))"
   ]
  },
  {
   "cell_type": "code",
   "execution_count": 26,
   "metadata": {},
   "outputs": [],
   "source": [
    "predictions = model.predict(test.drop('label',axis = 1))\n",
    "# sns.heatmap(confusion_matrix(test['label'], (predictions + 1) // 2), annot=True)"
   ]
  },
  {
   "cell_type": "code",
   "execution_count": 27,
   "metadata": {},
   "outputs": [
    {
     "data": {
      "text/plain": [
       "<matplotlib.axes._subplots.AxesSubplot at 0x7ffa137c2748>"
      ]
     },
     "execution_count": 27,
     "metadata": {},
     "output_type": "execute_result"
    },
    {
     "data": {
      "image/png": "[encoded data removed]",
      "text/plain": [
       "<Figure size 1440x720 with 2 Axes>"
      ]
     },
     "metadata": {},
     "output_type": "display_data"
    }
   ],
   "source": [
    "def flip(x):\n",
    "    if x==1:\n",
    "        return 0\n",
    "    else:\n",
    "        return 1\n",
    "temp = test.copy()\n",
    "\n",
    "temp['predictions'] = (predictions + 1) // 2\n",
    "temp['predictions'] = temp['predictions'].apply(lambda x : 1 if x==0 else 0)\n",
    "\n",
    "sns.heatmap(confusion_matrix(temp.label, temp.predictions),annot = True)\n",
    "# temp['predictions'].value_counts()"
   ]
  },
  {
   "cell_type": "code",
   "execution_count": 28,
   "metadata": {},
   "outputs": [],
   "source": [
    "f1scores = []\n",
    "f1scores.append(f1_score(temp.label, temp.predictions))"
   ]
  },
  {
   "cell_type": "code",
   "execution_count": 29,
   "metadata": {},
   "outputs": [],
   "source": [
    "recall = []\n",
    "recall.append(recall_score(temp.label, temp.predictions))\n",
    "precison = []\n",
    "precison.append(precision_score(temp.label, temp.predictions))"
   ]
  },
  {
   "cell_type": "code",
   "execution_count": 30,
   "metadata": {},
   "outputs": [],
   "source": [
    "models = [type(model).__name__]"
   ]
  },
  {
   "cell_type": "markdown",
   "metadata": {},
   "source": [
    "## Isolation Forest"
   ]
  },
  {
   "cell_type": "code",
   "execution_count": 31,
   "metadata": {},
   "outputs": [
    {
     "name": "stderr",
     "output_type": "stream",
     "text": [
      "[Parallel(n_jobs=1)]: Using backend SequentialBackend with 1 concurrent workers.\n",
      "[Parallel(n_jobs=1)]: Done   1 out of   1 | elapsed:    0.5s finished\n"
     ]
    },
    {
     "data": {
      "text/plain": [
       "IsolationForest(behaviour='deprecated', bootstrap=False,\n",
       "                contamination=0.024752967553542532, max_features=1.0,\n",
       "                max_samples='auto', n_estimators=100, n_jobs=None,\n",
       "                random_state=None, verbose=True, warm_start=False)"
      ]
     },
     "execution_count": 31,
     "metadata": {},
     "output_type": "execute_result"
    }
   ],
   "source": [
    "model = IsolationForest(contamination=outlier_prop, verbose=True)\n",
    "model.fit(data.drop('label',axis = 1))"
   ]
  },
  {
   "cell_type": "code",
   "execution_count": 32,
   "metadata": {},
   "outputs": [
    {
     "data": {
      "text/plain": [
       "<matplotlib.axes._subplots.AxesSubplot at 0x7ffa13747cc0>"
      ]
     },
     "execution_count": 32,
     "metadata": {},
     "output_type": "execute_result"
    },
    {
     "data": {
      "image/png": "[encoded data removed]",
      "text/plain": [
       "<Figure size 1440x720 with 2 Axes>"
      ]
     },
     "metadata": {},
     "output_type": "display_data"
    }
   ],
   "source": [
    "predictions = (model.predict(test.drop('label', axis = 1)) + 1) // 2\n",
    "temp = test.copy()\n",
    "temp['predictions'] = predictions\n",
    "temp['predictions'] = temp['predictions'].apply(lambda x: 1 if x==0 else 0)\n",
    "sns.heatmap(confusion_matrix(temp.label, temp.predictions),annot=True)"
   ]
  },
  {
   "cell_type": "code",
   "execution_count": 33,
   "metadata": {},
   "outputs": [],
   "source": [
    "f1scores.append(f1_score(temp.label, temp.predictions))\n",
    "recall.append(recall_score(temp.label, temp.predictions))\n",
    "precison.append(precision_score(temp.label, temp.predictions))\n",
    "models.append(type(model).__name__)"
   ]
  },
  {
   "cell_type": "markdown",
   "metadata": {},
   "source": [
    "## LOF"
   ]
  },
  {
   "cell_type": "code",
   "execution_count": 34,
   "metadata": {},
   "outputs": [
    {
     "data": {
      "text/plain": [
       "LocalOutlierFactor(algorithm='auto', contamination='auto', leaf_size=30,\n",
       "                   metric='minkowski', metric_params=None, n_jobs=None,\n",
       "                   n_neighbors=20, novelty=True, p=2)"
      ]
     },
     "execution_count": 34,
     "metadata": {},
     "output_type": "execute_result"
    }
   ],
   "source": [
    "model = LocalOutlierFactor(novelty=True)\n",
    "model.fit(data.drop('label',axis = 1))"
   ]
  },
  {
   "cell_type": "code",
   "execution_count": 35,
   "metadata": {},
   "outputs": [
    {
     "data": {
      "text/plain": [
       "<matplotlib.axes._subplots.AxesSubplot at 0x7ffa1380cc50>"
      ]
     },
     "execution_count": 35,
     "metadata": {},
     "output_type": "execute_result"
    },
    {
     "data": {
      "image/png": "[encoded data removed]",
      "text/plain": [
       "<Figure size 1440x720 with 2 Axes>"
      ]
     },
     "metadata": {},
     "output_type": "display_data"
    }
   ],
   "source": [
    "predictions = (model.predict(test.drop('label', axis = 1)) + 1) // 2\n",
    "temp = test.copy()\n",
    "temp['predictions'] = predictions\n",
    "temp['predictions'] = temp['predictions'].apply(lambda x: 1 if x==0 else 0)\n",
    "sns.heatmap(confusion_matrix(temp.label, temp.predictions),annot=True)"
   ]
  },
  {
   "cell_type": "code",
   "execution_count": 36,
   "metadata": {},
   "outputs": [],
   "source": [
    "f1scores.append(f1_score(temp.label, temp.predictions))\n",
    "recall.append(recall_score(temp.label, temp.predictions))\n",
    "precison.append(precision_score(temp.label, temp.predictions))\n",
    "models.append(type(model).__name__)"
   ]
  },
  {
   "cell_type": "markdown",
   "metadata": {},
   "source": [
    "## RandomForest"
   ]
  },
  {
   "cell_type": "code",
   "execution_count": 37,
   "metadata": {},
   "outputs": [
    {
     "data": {
      "text/plain": [
       "<matplotlib.axes._subplots.AxesSubplot at 0x7ffa1361fdd8>"
      ]
     },
     "execution_count": 37,
     "metadata": {},
     "output_type": "execute_result"
    },
    {
     "data": {
      "image/png": "[encoded data removed]",
      "text/plain": [
       "<Figure size 1440x720 with 1 Axes>"
      ]
     },
     "metadata": {},
     "output_type": "display_data"
    }
   ],
   "source": [
    "## Process of balancing the data for training a classifier\n",
    "\n",
    "\n",
    "def balance_data(data, label):\n",
    "    class1 = data[data[label] == 1]\n",
    "    size = class1.shape[0]\n",
    "    class0 = data[data[label] == 0].sample(n = size)\n",
    "    new_data = pd.concat([class0,class1],ignore_index=True)\n",
    "    return new_data\n",
    "\n",
    "new_data = balance_data(data.copy(),'label')\n",
    "new_data['label'].value_counts().plot(kind = 'bar')"
   ]
  },
  {
   "cell_type": "code",
   "execution_count": 38,
   "metadata": {},
   "outputs": [
    {
     "name": "stderr",
     "output_type": "stream",
     "text": [
      "[Parallel(n_jobs=-1)]: Using backend ThreadingBackend with 8 concurrent workers.\n",
      "[Parallel(n_jobs=-1)]: Done  34 tasks      | elapsed:    0.1s\n",
      "[Parallel(n_jobs=-1)]: Done  50 out of  50 | elapsed:    0.1s finished\n"
     ]
    },
    {
     "data": {
      "text/plain": [
       "RandomForestClassifier(bootstrap=True, ccp_alpha=0.0, class_weight='balanced',\n",
       "                       criterion='gini', max_depth=5, max_features='auto',\n",
       "                       max_leaf_nodes=None, max_samples=None,\n",
       "                       min_impurity_decrease=0.0, min_impurity_split=None,\n",
       "                       min_samples_leaf=1, min_samples_split=2,\n",
       "                       min_weight_fraction_leaf=0.0, n_estimators=50, n_jobs=-1,\n",
       "                       oob_score=False, random_state=0, verbose=True,\n",
       "                       warm_start=False)"
      ]
     },
     "execution_count": 38,
     "metadata": {},
     "output_type": "execute_result"
    }
   ],
   "source": [
    "model = RandomForestClassifier(\n",
    "    n_estimators=50,\n",
    "    criterion='gini',\n",
    "    max_depth=5,\n",
    "    min_samples_split=2,\n",
    "    min_samples_leaf=1,\n",
    "    min_weight_fraction_leaf=0.0,\n",
    "    max_features='auto',\n",
    "    max_leaf_nodes=None,\n",
    "    min_impurity_decrease=0.0,\n",
    "    min_impurity_split=None,\n",
    "    bootstrap=True,\n",
    "    oob_score=False,\n",
    "    n_jobs=-1,\n",
    "    random_state=0,\n",
    "    verbose=True,\n",
    "    warm_start=False,\n",
    "    class_weight='balanced'\n",
    ")\n",
    "\n",
    "model.fit(new_data.drop('label',axis = 1), new_data['label'])"
   ]
  },
  {
   "cell_type": "code",
   "execution_count": 39,
   "metadata": {},
   "outputs": [
    {
     "name": "stderr",
     "output_type": "stream",
     "text": [
      "[Parallel(n_jobs=8)]: Using backend ThreadingBackend with 8 concurrent workers.\n",
      "[Parallel(n_jobs=8)]: Done  34 tasks      | elapsed:    0.0s\n",
      "[Parallel(n_jobs=8)]: Done  50 out of  50 | elapsed:    0.0s finished\n"
     ]
    },
    {
     "data": {
      "text/plain": [
       "<matplotlib.axes._subplots.AxesSubplot at 0x7ffa1356b630>"
      ]
     },
     "execution_count": 39,
     "metadata": {},
     "output_type": "execute_result"
    },
    {
     "data": {
      "image/png": "[encoded data removed]",
      "text/plain": [
       "<Figure size 1440x720 with 2 Axes>"
      ]
     },
     "metadata": {},
     "output_type": "display_data"
    }
   ],
   "source": [
    "predictions = model.predict(test.drop('label', axis = 1))\n",
    "temp = test.copy()\n",
    "temp['predictions'] = predictions\n",
    "sns.heatmap(confusion_matrix(temp.label, temp.predictions),annot=True)"
   ]
  },
  {
   "cell_type": "code",
   "execution_count": 40,
   "metadata": {},
   "outputs": [
    {
     "data": {
      "text/plain": [
       "<matplotlib.axes._subplots.AxesSubplot at 0x7ffa134a4c50>"
      ]
     },
     "execution_count": 40,
     "metadata": {},
     "output_type": "execute_result"
    },
    {
     "data": {
      "image/png": "[encoded data removed]",
      "text/plain": [
       "<Figure size 1440x720 with 1 Axes>"
      ]
     },
     "metadata": {},
     "output_type": "display_data"
    }
   ],
   "source": [
    "(pd.Series(model.feature_importances_, index = data.drop('label', axis = 1).columns).plot(kind = 'barh'))"
   ]
  },
  {
   "cell_type": "code",
   "execution_count": 41,
   "metadata": {},
   "outputs": [],
   "source": [
    "f1scores.append(f1_score(temp.label, temp.predictions))\n",
    "recall.append(recall_score(temp.label, temp.predictions))\n",
    "precison.append(precision_score(temp.label, temp.predictions))\n",
    "models.append(type(model).__name__)"
   ]
  },
  {
   "cell_type": "markdown",
   "metadata": {},
   "source": [
    "## SVM"
   ]
  },
  {
   "cell_type": "code",
   "execution_count": 42,
   "metadata": {},
   "outputs": [
    {
     "name": "stdout",
     "output_type": "stream",
     "text": [
      "[LibSVM]"
     ]
    },
    {
     "data": {
      "text/plain": [
       "SVC(C=1.0, break_ties=False, cache_size=200, class_weight=None, coef0=0.0,\n",
       "    decision_function_shape='ovr', degree=3, gamma='scale', kernel='linear',\n",
       "    max_iter=-1, probability=False, random_state=None, shrinking=True,\n",
       "    tol=0.001, verbose=True)"
      ]
     },
     "execution_count": 42,
     "metadata": {},
     "output_type": "execute_result"
    }
   ],
   "source": [
    "model = SVC(verbose=True, kernel='linear')\n",
    "model.fit(new_data.drop('label',axis = 1), new_data['label'])"
   ]
  },
  {
   "cell_type": "code",
   "execution_count": 43,
   "metadata": {},
   "outputs": [
    {
     "data": {
      "text/plain": [
       "<matplotlib.axes._subplots.AxesSubplot at 0x7ffa1350e940>"
      ]
     },
     "execution_count": 43,
     "metadata": {},
     "output_type": "execute_result"
    },
    {
     "data": {
      "image/png": "[encoded data removed]",
      "text/plain": [
       "<Figure size 1440x720 with 2 Axes>"
      ]
     },
     "metadata": {},
     "output_type": "display_data"
    }
   ],
   "source": [
    "predictions = model.predict(test.drop('label', axis = 1))\n",
    "temp = test.copy()\n",
    "temp['predictions'] = predictions\n",
    "sns.heatmap(confusion_matrix(temp.label, temp.predictions),annot=True)"
   ]
  },
  {
   "cell_type": "code",
   "execution_count": 44,
   "metadata": {},
   "outputs": [
    {
     "data": {
      "text/plain": [
       "<matplotlib.axes._subplots.AxesSubplot at 0x7ffa109f0eb8>"
      ]
     },
     "execution_count": 44,
     "metadata": {},
     "output_type": "execute_result"
    },
    {
     "data": {
      "image/png": "[encoded data removed]",
      "text/plain": [
       "<Figure size 1440x720 with 1 Axes>"
      ]
     },
     "metadata": {},
     "output_type": "display_data"
    }
   ],
   "source": [
    "(pd.Series(abs(model.coef_[0]), index = data.drop('label', axis = 1).columns).plot(kind = 'barh'))"
   ]
  },
  {
   "cell_type": "code",
   "execution_count": 45,
   "metadata": {},
   "outputs": [],
   "source": [
    "f1scores.append(f1_score(temp.label, temp.predictions))\n",
    "recall.append(recall_score(temp.label, temp.predictions))\n",
    "precison.append(precision_score(temp.label, temp.predictions))\n",
    "models.append(type(model).__name__)"
   ]
  },
  {
   "cell_type": "markdown",
   "metadata": {},
   "source": [
    "## XGBoost"
   ]
  },
  {
   "cell_type": "code",
   "execution_count": 46,
   "metadata": {},
   "outputs": [
    {
     "data": {
      "text/plain": [
       "<matplotlib.axes._subplots.AxesSubplot at 0x7ffa109d1198>"
      ]
     },
     "execution_count": 46,
     "metadata": {},
     "output_type": "execute_result"
    },
    {
     "data": {
      "image/png": "[encoded data removed]",
      "text/plain": [
       "<Figure size 1440x720 with 2 Axes>"
      ]
     },
     "metadata": {},
     "output_type": "display_data"
    }
   ],
   "source": [
    "model = XGBClassifier()\n",
    "model.fit(new_data.drop('label',axis = 1), new_data['label'])\n",
    "predictions = model.predict(test.drop('label', axis = 1))\n",
    "predictions = [round(i) for i in predictions]\n",
    "temp = test.copy()\n",
    "temp['predictions'] = predictions\n",
    "sns.heatmap(confusion_matrix(temp.label, temp.predictions),annot=True)"
   ]
  },
  {
   "cell_type": "code",
   "execution_count": 47,
   "metadata": {},
   "outputs": [
    {
     "data": {
      "text/plain": [
       "<matplotlib.axes._subplots.AxesSubplot at 0x7ffa138035c0>"
      ]
     },
     "execution_count": 47,
     "metadata": {},
     "output_type": "execute_result"
    },
    {
     "data": {
      "image/png": "[encoded data removed]",
      "text/plain": [
       "<Figure size 1440x720 with 1 Axes>"
      ]
     },
     "metadata": {},
     "output_type": "display_data"
    }
   ],
   "source": [
    "(pd.Series(model.feature_importances_, index = data.drop('label', axis = 1).columns).plot(kind = 'barh'))"
   ]
  },
  {
   "cell_type": "code",
   "execution_count": 48,
   "metadata": {},
   "outputs": [],
   "source": [
    "f1scores.append(f1_score(temp.label, temp.predictions))\n",
    "recall.append(recall_score(temp.label, temp.predictions))\n",
    "precison.append(precision_score(temp.label, temp.predictions))\n",
    "models.append(type(model).__name__)"
   ]
  },
  {
   "cell_type": "code",
   "execution_count": 49,
   "metadata": {},
   "outputs": [],
   "source": [
    "results = {}\n",
    "results['models'] = models\n",
    "results['f1_score'] = f1scores\n",
    "results['precison'] = precison\n",
    "results['recall'] = recall"
   ]
  },
  {
   "cell_type": "code",
   "execution_count": 50,
   "metadata": {},
   "outputs": [
    {
     "data": {
      "text/html": [
       "<div>\n",
       "<style scoped>\n",
       "    .dataframe tbody tr th:only-of-type {\n",
       "        vertical-align: middle;\n",
       "    }\n",
       "\n",
       "    .dataframe tbody tr th {\n",
       "        vertical-align: top;\n",
       "    }\n",
       "\n",
       "    .dataframe thead th {\n",
       "        text-align: right;\n",
       "    }\n",
       "</style>\n",
       "<table border=\"1\" class=\"dataframe\">\n",
       "  <thead>\n",
       "    <tr style=\"text-align: right;\">\n",
       "      <th></th>\n",
       "      <th>models</th>\n",
       "      <th>f1_score</th>\n",
       "      <th>precison</th>\n",
       "      <th>recall</th>\n",
       "    </tr>\n",
       "  </thead>\n",
       "  <tbody>\n",
       "    <tr>\n",
       "      <th>0</th>\n",
       "      <td>OneClassSVM</td>\n",
       "      <td>0.050420</td>\n",
       "      <td>0.041096</td>\n",
       "      <td>0.065217</td>\n",
       "    </tr>\n",
       "    <tr>\n",
       "      <th>1</th>\n",
       "      <td>IsolationForest</td>\n",
       "      <td>0.342541</td>\n",
       "      <td>0.348315</td>\n",
       "      <td>0.336957</td>\n",
       "    </tr>\n",
       "    <tr>\n",
       "      <th>2</th>\n",
       "      <td>LocalOutlierFactor</td>\n",
       "      <td>0.745690</td>\n",
       "      <td>0.617857</td>\n",
       "      <td>0.940217</td>\n",
       "    </tr>\n",
       "    <tr>\n",
       "      <th>3</th>\n",
       "      <td>RandomForestClassifier</td>\n",
       "      <td>0.842767</td>\n",
       "      <td>1.000000</td>\n",
       "      <td>0.728261</td>\n",
       "    </tr>\n",
       "    <tr>\n",
       "      <th>4</th>\n",
       "      <td>SVC</td>\n",
       "      <td>0.203593</td>\n",
       "      <td>0.120812</td>\n",
       "      <td>0.646739</td>\n",
       "    </tr>\n",
       "  </tbody>\n",
       "</table>\n",
       "</div>"
      ],
      "text/plain": [
       "                   models  f1_score  precison    recall\n",
       "0             OneClassSVM  0.050420  0.041096  0.065217\n",
       "1         IsolationForest  0.342541  0.348315  0.336957\n",
       "2      LocalOutlierFactor  0.745690  0.617857  0.940217\n",
       "3  RandomForestClassifier  0.842767  1.000000  0.728261\n",
       "4                     SVC  0.203593  0.120812  0.646739"
      ]
     },
     "execution_count": 50,
     "metadata": {},
     "output_type": "execute_result"
    }
   ],
   "source": [
    "graph = pd.DataFrame.from_dict(results)\n",
    "graph.head()"
   ]
  },
  {
   "cell_type": "code",
   "execution_count": 51,
   "metadata": {},
   "outputs": [
    {
     "data": {
      "text/plain": [
       "<matplotlib.axes._subplots.AxesSubplot at 0x7ffa1006af98>"
      ]
     },
     "execution_count": 51,
     "metadata": {},
     "output_type": "execute_result"
    },
    {
     "data": {
      "image/png": "[encoded data removed]",
      "text/plain": [
       "<Figure size 1440x720 with 1 Axes>"
      ]
     },
     "metadata": {},
     "output_type": "display_data"
    }
   ],
   "source": [
    "graph.plot(x = 'models',kind = 'bar')"
   ]
  },
  {
   "cell_type": "code",
   "execution_count": null,
   "metadata": {},
   "outputs": [],
   "source": []
  },
  {
   "cell_type": "code",
   "execution_count": null,
   "metadata": {},
   "outputs": [],
   "source": []
  }
 ],
 "metadata": {
  "kernelspec": {
   "display_name": "Python 3",
   "language": "python",
   "name": "python3"
  },
  "language_info": {
   "codemirror_mode": {
    "name": "ipython",
    "version": 3
   },
   "file_extension": ".py",
   "mimetype": "text/x-python",
   "name": "python",
   "nbconvert_exporter": "python",
   "pygments_lexer": "ipython3",
   "version": "3.7.3"
  }
 },
 "nbformat": 4,
 "nbformat_minor": 4
}
